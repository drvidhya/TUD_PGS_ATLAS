{
 "cells": [
  {
   "cell_type": "code",
   "execution_count": null,
   "metadata": {},
   "outputs": [],
   "source": [
    "##import libraries\n",
    "import warnings\n",
    "import pandas as pd\n",
    "import numpy as np \n",
    "import seaborn as sns\n",
    "import scipy.stats as stats\n",
    "import csv\n",
    "import scipy\n",
    "from scipy import stats\n",
    "import statsmodels.formula.api as smf\n",
    "import statsmodels.api as sm\n",
    "from sklearn import metrics\n",
    "from sklearn.linear_model import LogisticRegression\n"
   ]
  },
  {
   "cell_type": "code",
   "execution_count": null,
   "metadata": {},
   "outputs": [],
   "source": [
    "#read in step 1 results for never smokers\n",
    "ancestry = 'EUR'\n",
    "pgs_file = 'PGS002037'\n",
    "phecode_df = pd.read_csv(('./path/to/step1/results').format(pgs_file, ancestry), sep = ',')\n",
    "phecode_df.head()"
   ]
  },
  {
   "cell_type": "code",
   "execution_count": null,
   "metadata": {},
   "outputs": [],
   "source": [
    "#restrict to rows withpgs\n",
    "z_df = phecode_df.loc[phecode_df['Unnamed: 0'].isin(['PRS_Z_eur'])]\n",
    "z_df"
   ]
  },
  {
   "cell_type": "code",
   "execution_count": null,
   "metadata": {},
   "outputs": [],
   "source": [
    "#fix column name\n",
    "rename_df = z_df.rename(columns={'P>|z|': 'p_value_z'})\n",
    "rename_df"
   ]
  },
  {
   "cell_type": "code",
   "execution_count": null,
   "metadata": {},
   "outputs": [],
   "source": [
    "#get phenotype names\n",
    "phecode_defns_df = pd.read_csv(\"./path/to/phecode/definitions\", sep=',')\n",
    "phecode_defns_df['phecode'] = phecode_defns_df['phecode']\n",
    "phecode_defns_df.head()"
   ]
  },
  {
   "cell_type": "code",
   "execution_count": null,
   "metadata": {},
   "outputs": [],
   "source": [
    "phecode_defns_df.category.value_counts()"
   ]
  },
  {
   "cell_type": "code",
   "execution_count": null,
   "metadata": {},
   "outputs": [],
   "source": [
    "rename_df.phecode.dtype"
   ]
  },
  {
   "cell_type": "code",
   "execution_count": null,
   "metadata": {},
   "outputs": [],
   "source": [
    "#merge names with results\n",
    "df = rename_df.merge(phecode_defns_df[['phecode','phenotype', 'category']], on='phecode', how='left')\n",
    "df.head()"
   ]
  },
  {
   "cell_type": "code",
   "execution_count": null,
   "metadata": {},
   "outputs": [],
   "source": [
    "df.sort_values('p_value_z').head(50)"
   ]
  },
  {
   "cell_type": "code",
   "execution_count": null,
   "metadata": {},
   "outputs": [],
   "source": [
    "#minuslogp column\n",
    "df['minuslogp'] = -np.log10(df.p_value_z); df = df.sort_values(['category'])\n",
    "df.replace(np.inf, 0, inplace=True)\n",
    "df = df.dropna(subset=['minuslogp'])\n",
    "df.reset_index(inplace=True, drop=True); df['i'] = df.index\n",
    "df[\"minuslogp\"] = pd.to_numeric(df[\"minuslogp\"])\n",
    "df"
   ]
  },
  {
   "cell_type": "code",
   "execution_count": null,
   "metadata": {},
   "outputs": [],
   "source": [
    "df = df.fillna(\"other\")"
   ]
  },
  {
   "cell_type": "code",
   "execution_count": null,
   "metadata": {},
   "outputs": [],
   "source": [
    "df.to_csv('./output/for/meta/analysis'.format(pgs_file, ancestry))"
   ]
  },
  {
   "cell_type": "code",
   "execution_count": null,
   "metadata": {},
   "outputs": [],
   "source": [
    "df.category.nunique()"
   ]
  },
  {
   "cell_type": "code",
   "execution_count": null,
   "metadata": {},
   "outputs": [],
   "source": [
    "0.05/1847"
   ]
  },
  {
   "cell_type": "markdown",
   "metadata": {},
   "source": [
    "# Phewas Z plot"
   ]
  },
  {
   "cell_type": "code",
   "execution_count": null,
   "metadata": {},
   "outputs": [],
   "source": [
    "# Generate PHEWAS plot with Z\n",
    "phewasplot = sns.relplot(data=df, x='i', y='z', aspect=3, \n",
    "                   hue='category', palette=sns.color_palette('bright', n_colors=18), legend='full')\n",
    "for line in range(0, df.shape[0]):\n",
    "    plt.text(\n",
    "        df.i[line],\n",
    "        df.z[line],\n",
    "        df.phenotype[line] if df.z[line] >4.15  or  df.z[line] < -4.15 else \"\",\n",
    "        verticalalignment= \"top\" if line %2 else \"top\",\n",
    "        horizontalalignment=\"left\" if line %-5 else \"left\",\n",
    "        rotation =20,\n",
    "        wrap=3,\n",
    "        size='small', color='black', fontsize=14, weight='normal')\n",
    "CATEGORY_phewas=df.groupby('category')['i'].median()\n",
    "phewasplot.ax.axhline(-4, linestyle='--', linewidth=1, color=\"red\")\n",
    "phewasplot.ax.axhline(4, linestyle='--', linewidth=1, color=\"red\")\n",
    "for ax in phewasplot.axes.flat: ax.spines['bottom'].set_position('zero')\n",
    "phewasplot.ax.set_xlabel('category')\n",
    "phewasplot.ax.set_xticks(CATEGORY_phewas)\n",
    "phewasplot.ax.set_xticklabels(CATEGORY_phewas.index, rotation = 30, horizontalalignment=\"right\")\n",
    "phewasplot.fig.suptitle('PRS_{}_PHEWAS_{}'.format(pgs_file,ancestry), x=0.1, weight = 'bold');"
   ]
  }
 ],
 "metadata": {
  "kernelspec": {
   "display_name": "Python 3",
   "language": "python",
   "name": "python3"
  },
  "language_info": {
   "codemirror_mode": {
    "name": "ipython",
    "version": 3
   },
   "file_extension": ".py",
   "mimetype": "text/x-python",
   "name": "python",
   "nbconvert_exporter": "python",
   "pygments_lexer": "ipython3",
   "version": "3.7.7"
  }
 },
 "nbformat": 4,
 "nbformat_minor": 2
}
