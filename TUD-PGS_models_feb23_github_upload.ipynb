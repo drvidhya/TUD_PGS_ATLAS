{
 "cells": [
  {
   "cell_type": "code",
   "execution_count": null,
   "metadata": {
    "scrolled": true
   },
   "outputs": [],
   "source": [
    "##import libraries, establish connection\n",
    "import warnings\n",
    "import pandas as pd\n",
    "import numpy as np \n",
    "import scipy.stats as stats\n",
    "import csv\n",
    "import scipy\n",
    "from scipy import stats\n",
    "stats.chisqprob = lambda chisq, df: stats.chi2.sf(chisq, df)\n",
    "\n",
    "import statsmodels.formula.api as smf\n",
    "import statsmodels.api as sm\n",
    "\n",
    "from sklearn import metrics\n",
    "from sklearn.linear_model import LogisticRegression\n",
    "\n"
   ]
  },
  {
   "cell_type": "code",
   "execution_count": null,
   "metadata": {},
   "outputs": [],
   "source": [
    "# input the PRS file\n",
    "pgs_file = 'PGS002037'\n",
    "prs = pd.read_csv(\"./path/to/pgs/file\".format(pgs_file), sep ='\\t')\n",
    "prs.head()"
   ]
  },
  {
   "cell_type": "code",
   "execution_count": null,
   "metadata": {},
   "outputs": [],
   "source": [
    "#input the phenotype file\n",
    "pheno_df = pd.read_csv('./path/to/phenotype/file', sep =',')\n",
    "pheno_df.head()"
   ]
  },
  {
   "cell_type": "code",
   "execution_count": null,
   "metadata": {},
   "outputs": [],
   "source": [
    "#for ancestry specific PRS association testing\n",
    "#change ancestry names and repeat for each GIA\n",
    "ancestry = 'EUR'\n",
    "pc_df = pd.read_csv(('./path/to/precomputed/pcs').format(ancestry), sep ='\\t')\n",
    "pc_df.head()"
   ]
  },
  {
   "cell_type": "code",
   "execution_count": null,
   "metadata": {
    "scrolled": true
   },
   "outputs": [],
   "source": [
    "#merge the main df with PCs for ancestry specific PRS association testing\n",
    "prs_pheno_eur = pheno_df.merge(pc_df, left_on='', right_on='')\n",
    "prs_pheno_eur.head()"
   ]
  },
  {
   "cell_type": "code",
   "execution_count": null,
   "metadata": {},
   "outputs": [],
   "source": [
    "#Z transform the PRS to get OR per SD within each ancestry\n",
    "prs_pheno_eur['PRS_Z_eur'] = (prs_pheno_eur['PRS'] - prs_pheno_eur['PRS'].mean())/prs_pheno_eur['PRS'].std()\n",
    "prs_pheno_eur.head()"
   ]
  },
  {
   "cell_type": "code",
   "execution_count": null,
   "metadata": {},
   "outputs": [],
   "source": [
    "#standardized within ancestry\n",
    "try :\n",
    "    phecode = '318.0'\n",
    "    prs_pheno_eur['test'] = prs_pheno_eur[phecode]\n",
    "    formula = 'test ~ PRS_Z_eur + Age + Sex + PC1 + PC2 + PC3 + PC4 + PC5 + insurance'\n",
    "    m1 = smf.logit(formula = formula , data= prs_pheno_eur).fit(start_params=None, maxiter=35,method='newton')\n",
    "    LRresult = (m1.summary2().tables[1])\n",
    "    LRresult['phecode'] = phecode\n",
    "    LRresult['GIA'] = ('{}'.format(ancestry))\n",
    "    LRresult\n",
    "except sm_tools.sm_exceptions.PerfectSeparationError:\n",
    "    print('--PerfectSeparationError--')\n",
    "    pass\n",
    "LRresult"
   ]
  },
  {
   "cell_type": "code",
   "execution_count": null,
   "metadata": {},
   "outputs": [],
   "source": [
    "prs_pheno_eur['prs_cut'] = pd.qcut(prs_pheno_eur.PRS_Z_eur, q=5,\n",
    "                      labels=['1',\n",
    "                                '2',\n",
    "                                '3',\n",
    "                                '4',\n",
    "                                '5'])\n",
    "prs_pheno_eur.head()"
   ]
  },
  {
   "cell_type": "code",
   "execution_count": null,
   "metadata": {},
   "outputs": [],
   "source": [
    "try :\n",
    "    phecode = '318.0'\n",
    "    prs_phenotype_eur['test'] = prs_phenotype_eur[phecode]\n",
    "    formula = 'test ~ prs_cut + PatientAge + Sex + PC1 + PC2 + PC3 + PC4 + PC5 + ins_class'\n",
    "    m1 = smf.logit(formula = formula , data= prs_phenotype_eur).fit(start_params=None, maxiter=35,method='newton')\n",
    "    LRresult = (m1.summary2().tables[1])\n",
    "    LRresult['phecode'] = phecode\n",
    "    LRresult['GIA'] = ('{}'.format(ancestry))\n",
    "    LRresult\n",
    "except sm_tools.sm_exceptions.PerfectSeparationError:\n",
    "    print('--PerfectSeparationError--')\n",
    "    pass\n",
    "LRresult"
   ]
  },
  {
   "cell_type": "code",
   "execution_count": null,
   "metadata": {},
   "outputs": [],
   "source": [
    "####obesity, alcohol related disorders and lung cancer across risk quantiles pan ancestry"
   ]
  },
  {
   "cell_type": "code",
   "execution_count": null,
   "metadata": {},
   "outputs": [],
   "source": [
    "new_df = pd.concat([prs_phenotype_eur, prs_phenotype_amr, prs_phenotype_eas, prs_phenotype_afr], axis=0)\n",
    "new_df"
   ]
  },
  {
   "cell_type": "code",
   "execution_count": null,
   "metadata": {},
   "outputs": [],
   "source": [
    "#repeat for obesity and lung ca phecode\n",
    "try :\n",
    "    phecode = '317.0'\n",
    "    new_df['test'] = new_df[phecode]\n",
    "    formula = 'test ~ prs_cut + PatientAge + Sex + PC1 + PC2 + PC3 + PC4 + PC5 + insurance'\n",
    "    m1 = smf.logit(formula = formula , data= new_df).fit(start_params=None, maxiter=35,method='newton')\n",
    "    LRresult = (m1.summary2().tables[1])\n",
    "    LRresult['phecode'] = phecode\n",
    "    LRresult\n",
    "except sm_tools.sm_exceptions.PerfectSeparationError:\n",
    "    print('--PerfectSeparationError--')\n",
    "    pass\n",
    "LRresult"
   ]
  },
  {
   "cell_type": "code",
   "execution_count": null,
   "metadata": {},
   "outputs": [],
   "source": [
    "smoker_df = new_df.loc[new_df['smoking_behav'] > 0]\n",
    "smoker_df"
   ]
  },
  {
   "cell_type": "code",
   "execution_count": null,
   "metadata": {},
   "outputs": [],
   "source": [
    "try :\n",
    "    phecode = '317.0'\n",
    "    smoker_df['test'] = smoker_df[phecode]\n",
    "    formula = 'test ~ prs_cut + PatientAge + Sex + PC1 + PC2 + PC3 + PC4 + PC5 + ins_class'\n",
    "    m1 = smf.logit(formula = formula , data= smoker_df).fit(start_params=None, maxiter=35,method='newton')\n",
    "    LRresult = (m1.summary2().tables[1])\n",
    "    LRresult['phecode'] = phecode\n",
    "    LRresult\n",
    "except sm_tools.sm_exceptions.PerfectSeparationError:\n",
    "    print('--PerfectSeparationError--')\n",
    "    pass\n",
    "LRresult"
   ]
  },
  {
   "cell_type": "code",
   "execution_count": null,
   "metadata": {},
   "outputs": [],
   "source": [
    "never_smoker_df = new_df.loc[new_df['smoking_behav'] == 0]\n",
    "never_smoker_df"
   ]
  },
  {
   "cell_type": "code",
   "execution_count": null,
   "metadata": {
    "scrolled": true
   },
   "outputs": [],
   "source": [
    "try :\n",
    "    phecode = '317.0'\n",
    "    never_smoker_df['test'] = never_smoker_df[phecode]\n",
    "    formula = 'test ~ prs_cut + PatientAge + Sex + PC1 + PC2 + PC3 + PC4 + PC5 + ins_class'\n",
    "    m1 = smf.logit(formula = formula , data= never_smoker_df).fit(start_params=None, maxiter=35,method='newton')\n",
    "    LRresult = (m1.summary2().tables[1])\n",
    "    LRresult['phecode'] = phecode\n",
    "    LRresult\n",
    "except sm_tools.sm_exceptions.PerfectSeparationError:\n",
    "    print('--PerfectSeparationError--')\n",
    "    pass\n",
    "LRresult"
   ]
  },
  {
   "cell_type": "code",
   "execution_count": null,
   "metadata": {},
   "outputs": [],
   "source": []
  }
 ],
 "metadata": {
  "kernelspec": {
   "display_name": "Python 3",
   "language": "python",
   "name": "python3"
  },
  "language_info": {
   "codemirror_mode": {
    "name": "ipython",
    "version": 3
   },
   "file_extension": ".py",
   "mimetype": "text/x-python",
   "name": "python",
   "nbconvert_exporter": "python",
   "pygments_lexer": "ipython3",
   "version": "3.7.7"
  }
 },
 "nbformat": 4,
 "nbformat_minor": 2
}
